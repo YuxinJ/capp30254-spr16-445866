{
 "cells": [
  {
   "cell_type": "code",
   "execution_count": 3,
   "metadata": {
    "collapsed": true
   },
   "outputs": [],
   "source": [
    "import pandas as pd\n",
    "data = pd.read_csv(\"mock_student_data.csv\")"
   ]
  },
  {
   "cell_type": "code",
   "execution_count": 4,
   "metadata": {
    "collapsed": true
   },
   "outputs": [],
   "source": [
    "import numpy as np\n",
    "import statistics as stat"
   ]
  },
  {
   "cell_type": "code",
   "execution_count": 15,
   "metadata": {
    "collapsed": false
   },
   "outputs": [
    {
     "data": {
      "text/html": [
       "<div>\n",
       "<table border=\"1\" class=\"dataframe\">\n",
       "  <thead>\n",
       "    <tr style=\"text-align: right;\">\n",
       "      <th></th>\n",
       "      <th>count</th>\n",
       "      <th>mean</th>\n",
       "      <th>std</th>\n",
       "      <th>min</th>\n",
       "      <th>25%</th>\n",
       "      <th>50%</th>\n",
       "      <th>75%</th>\n",
       "      <th>max</th>\n",
       "    </tr>\n",
       "  </thead>\n",
       "  <tbody>\n",
       "    <tr>\n",
       "      <th>ID</th>\n",
       "      <td>1000.0</td>\n",
       "      <td>500.500000</td>\n",
       "      <td>288.819436</td>\n",
       "      <td>1.0</td>\n",
       "      <td>250.75</td>\n",
       "      <td>500.5</td>\n",
       "      <td>750.25</td>\n",
       "      <td>1000.0</td>\n",
       "    </tr>\n",
       "    <tr>\n",
       "      <th>Age</th>\n",
       "      <td>771.0</td>\n",
       "      <td>16.996109</td>\n",
       "      <td>1.458067</td>\n",
       "      <td>15.0</td>\n",
       "      <td>16.00</td>\n",
       "      <td>17.0</td>\n",
       "      <td>18.00</td>\n",
       "      <td>19.0</td>\n",
       "    </tr>\n",
       "    <tr>\n",
       "      <th>GPA</th>\n",
       "      <td>779.0</td>\n",
       "      <td>2.988447</td>\n",
       "      <td>0.818249</td>\n",
       "      <td>2.0</td>\n",
       "      <td>2.00</td>\n",
       "      <td>3.0</td>\n",
       "      <td>4.00</td>\n",
       "      <td>4.0</td>\n",
       "    </tr>\n",
       "    <tr>\n",
       "      <th>Days_missed</th>\n",
       "      <td>808.0</td>\n",
       "      <td>18.011139</td>\n",
       "      <td>9.629371</td>\n",
       "      <td>2.0</td>\n",
       "      <td>9.00</td>\n",
       "      <td>18.0</td>\n",
       "      <td>27.00</td>\n",
       "      <td>34.0</td>\n",
       "    </tr>\n",
       "  </tbody>\n",
       "</table>\n",
       "</div>"
      ],
      "text/plain": [
       "              count        mean         std   min     25%    50%     75%  \\\n",
       "ID           1000.0  500.500000  288.819436   1.0  250.75  500.5  750.25   \n",
       "Age           771.0   16.996109    1.458067  15.0   16.00   17.0   18.00   \n",
       "GPA           779.0    2.988447    0.818249   2.0    2.00    3.0    4.00   \n",
       "Days_missed   808.0   18.011139    9.629371   2.0    9.00   18.0   27.00   \n",
       "\n",
       "                max  \n",
       "ID           1000.0  \n",
       "Age            19.0  \n",
       "GPA             4.0  \n",
       "Days_missed    34.0  "
      ]
     },
     "execution_count": 15,
     "metadata": {},
     "output_type": "execute_result"
    }
   ],
   "source": [
    "#generate summary statistics for each field\n",
    "data.describe().transpose()"
   ]
  },
  {
   "cell_type": "code",
   "execution_count": 23,
   "metadata": {
    "collapsed": false,
    "scrolled": true
   },
   "outputs": [
    {
     "data": {
      "text/html": [
       "<div>\n",
       "<table border=\"1\" class=\"dataframe\">\n",
       "  <thead>\n",
       "    <tr style=\"text-align: right;\">\n",
       "      <th></th>\n",
       "      <th>ID</th>\n",
       "      <th>First_name</th>\n",
       "      <th>Last_name</th>\n",
       "      <th>State</th>\n",
       "      <th>Gender</th>\n",
       "      <th>Age</th>\n",
       "      <th>GPA</th>\n",
       "      <th>Days_missed</th>\n",
       "      <th>Graduated</th>\n",
       "    </tr>\n",
       "  </thead>\n",
       "  <tbody>\n",
       "    <tr>\n",
       "      <th>0</th>\n",
       "      <td>NaN</td>\n",
       "      <td>Amy</td>\n",
       "      <td>Ross</td>\n",
       "      <td>Texas</td>\n",
       "      <td>Female</td>\n",
       "      <td>15.0</td>\n",
       "      <td>2.0</td>\n",
       "      <td>6.0</td>\n",
       "      <td>Yes</td>\n",
       "    </tr>\n",
       "    <tr>\n",
       "      <th>1</th>\n",
       "      <td>NaN</td>\n",
       "      <td>NaN</td>\n",
       "      <td>NaN</td>\n",
       "      <td>NaN</td>\n",
       "      <td>NaN</td>\n",
       "      <td>NaN</td>\n",
       "      <td>NaN</td>\n",
       "      <td>14.0</td>\n",
       "      <td>NaN</td>\n",
       "    </tr>\n",
       "    <tr>\n",
       "      <th>2</th>\n",
       "      <td>NaN</td>\n",
       "      <td>NaN</td>\n",
       "      <td>NaN</td>\n",
       "      <td>NaN</td>\n",
       "      <td>NaN</td>\n",
       "      <td>NaN</td>\n",
       "      <td>NaN</td>\n",
       "      <td>31.0</td>\n",
       "      <td>NaN</td>\n",
       "    </tr>\n",
       "  </tbody>\n",
       "</table>\n",
       "</div>"
      ],
      "text/plain": [
       "   ID First_name Last_name  State  Gender   Age  GPA  Days_missed Graduated\n",
       "0 NaN        Amy      Ross  Texas  Female  15.0  2.0          6.0       Yes\n",
       "1 NaN        NaN       NaN    NaN     NaN   NaN  NaN         14.0       NaN\n",
       "2 NaN        NaN       NaN    NaN     NaN   NaN  NaN         31.0       NaN"
      ]
     },
     "execution_count": 23,
     "metadata": {},
     "output_type": "execute_result"
    }
   ],
   "source": [
    "data.mode()"
   ]
  },
  {
   "cell_type": "code",
   "execution_count": 3,
   "metadata": {
    "collapsed": false
   },
   "outputs": [],
   "source": [
    "import matplotlib.pyplot as plt"
   ]
  },
  {
   "cell_type": "code",
   "execution_count": 34,
   "metadata": {
    "collapsed": false
   },
   "outputs": [],
   "source": [
    "#gender count figure\n",
    "gender_dist = data.groupby('Gender')['Gender'].agg('count')\n",
    "gender_dist.plot(kind='bar')\n",
    "plt.title('Distribution of Students Gender')\n",
    "plt.savefig('genderplot.png')"
   ]
  },
  {
   "cell_type": "code",
   "execution_count": 4,
   "metadata": {
    "collapsed": false,
    "scrolled": true
   },
   "outputs": [],
   "source": [
    "age_dist = data.groupby('Age')['Age'].agg('count')\n",
    "age_dist.plot(kind='bar')\n",
    "plt.title('Distribution of Students Age')\n",
    "plt.savefig('ageplot.png')"
   ]
  },
  {
   "cell_type": "code",
   "execution_count": 5,
   "metadata": {
    "collapsed": false
   },
   "outputs": [],
   "source": [
    "gpa_dist = data.groupby('GPA')['GPA'].agg('count')\n",
    "gpa_dist.plot(kind='bar')\n",
    "plt.title('Distribution of Students GPA')\n",
    "plt.savefig('gpaplot.png')"
   ]
  },
  {
   "cell_type": "code",
   "execution_count": 6,
   "metadata": {
    "collapsed": true
   },
   "outputs": [],
   "source": [
    "days_dist = data.groupby('Days_missed')['Days_missed'].agg('count')\n",
    "days_dist.plot(kind='bar')\n",
    "plt.title('Distribution of Days Missed in School')\n",
    "plt.savefig('daysplot.png')"
   ]
  },
  {
   "cell_type": "code",
   "execution_count": 7,
   "metadata": {
    "collapsed": true
   },
   "outputs": [],
   "source": [
    "graduate_dist = data.groupby('Graduated')['Graduated'].agg('count')\n",
    "graduate_dist.plot(kind='bar')\n",
    "plt.title('Distribution of Graduation Result')\n",
    "plt.savefig('gradplot.png')"
   ]
  },
  {
   "cell_type": "code",
   "execution_count": 22,
   "metadata": {
    "collapsed": false
   },
   "outputs": [
    {
     "name": "stdout",
     "output_type": "stream",
     "text": [
      "0 0 116 226 229 221 192 0\n"
     ]
    }
   ],
   "source": [
    "#count the number of missing values of each field \n",
    "fn_miss = sum(data['First_name'].isnull().values.ravel())\n",
    "ln_miss = sum(data['Last_name'].isnull().values.ravel())\n",
    "state_miss = sum(data['State'].isnull().values.ravel())\n",
    "gender_miss = sum(data['Gender'].isnull().values.ravel())\n",
    "age_miss = sum(data['Age'].isnull().values.ravel())\n",
    "gpa_miss = sum(data['GPA'].isnull().values.ravel())\n",
    "dmiss_miss = sum(data['Days_missed'].isnull().values.ravel())\n",
    "graduate_miss = sum(data['Graduated'].isnull().values.ravel())\n",
    "\n",
    "print (fn_miss, ln_miss, state_miss, gender_miss, age_miss, gpa_miss, dmiss_miss,graduate_miss)"
   ]
  },
  {
   "cell_type": "code",
   "execution_count": 1,
   "metadata": {
    "collapsed": false
   },
   "outputs": [
    {
     "data": {
      "text/plain": [
       "'{\"name\":\"peter\",\"gender\":\"male\",\"probability\":\"1.00\",\"count\":4373}'"
      ]
     },
     "execution_count": 1,
     "metadata": {},
     "output_type": "execute_result"
    }
   ],
   "source": [
    "import requests\n",
    "gender_request = requests.get('http://api.genderize.io/?name=peter')\n",
    "gender_request.text"
   ]
  },
  {
   "cell_type": "code",
   "execution_count": 5,
   "metadata": {
    "collapsed": false
   },
   "outputs": [],
   "source": [
    "data_fillgender = data"
   ]
  },
  {
   "cell_type": "code",
   "execution_count": 6,
   "metadata": {
    "collapsed": false
   },
   "outputs": [
    {
     "name": "stderr",
     "output_type": "stream",
     "text": [
      "/usr/local/lib/python3.5/dist-packages/ipykernel/__main__.py:7: SettingWithCopyWarning: \n",
      "A value is trying to be set on a copy of a slice from a DataFrame\n",
      "\n",
      "See the caveats in the documentation: http://pandas.pydata.org/pandas-docs/stable/indexing.html#indexing-view-versus-copy\n"
     ]
    }
   ],
   "source": [
    "for i in range(0,1000):\n",
    "    if data_fillgender['Gender'][i] not in ['Female','Male']:\n",
    "            name = data_fillgender['First_name'][i]\n",
    "            url = 'http://api.genderize.io/?name=' + name \n",
    "            r = requests.get(url)\n",
    "            r_json = r.json()\n",
    "            data_fillgender['Gender'][i] = r_json['gender']"
   ]
  },
  {
   "cell_type": "code",
   "execution_count": 8,
   "metadata": {
    "collapsed": false
   },
   "outputs": [
    {
     "data": {
      "text/html": [
       "<div>\n",
       "<table border=\"1\" class=\"dataframe\">\n",
       "  <thead>\n",
       "    <tr style=\"text-align: right;\">\n",
       "      <th></th>\n",
       "      <th>ID</th>\n",
       "      <th>First_name</th>\n",
       "      <th>Last_name</th>\n",
       "      <th>State</th>\n",
       "      <th>Gender</th>\n",
       "      <th>Age</th>\n",
       "      <th>GPA</th>\n",
       "      <th>Days_missed</th>\n",
       "      <th>Graduated</th>\n",
       "    </tr>\n",
       "  </thead>\n",
       "  <tbody>\n",
       "    <tr>\n",
       "      <th>0</th>\n",
       "      <td>1</td>\n",
       "      <td>Wayne</td>\n",
       "      <td>Boyd</td>\n",
       "      <td>Florida</td>\n",
       "      <td>Male</td>\n",
       "      <td>19.0</td>\n",
       "      <td>NaN</td>\n",
       "      <td>9.0</td>\n",
       "      <td>Yes</td>\n",
       "    </tr>\n",
       "    <tr>\n",
       "      <th>1</th>\n",
       "      <td>2</td>\n",
       "      <td>Ann</td>\n",
       "      <td>Matthews</td>\n",
       "      <td>Pennsylvania</td>\n",
       "      <td>Female</td>\n",
       "      <td>18.0</td>\n",
       "      <td>3.0</td>\n",
       "      <td>NaN</td>\n",
       "      <td>Yes</td>\n",
       "    </tr>\n",
       "    <tr>\n",
       "      <th>2</th>\n",
       "      <td>3</td>\n",
       "      <td>George</td>\n",
       "      <td>Matthews</td>\n",
       "      <td>Texas</td>\n",
       "      <td>male</td>\n",
       "      <td>17.0</td>\n",
       "      <td>NaN</td>\n",
       "      <td>10.0</td>\n",
       "      <td>Yes</td>\n",
       "    </tr>\n",
       "    <tr>\n",
       "      <th>3</th>\n",
       "      <td>4</td>\n",
       "      <td>Jerry</td>\n",
       "      <td>Ramos</td>\n",
       "      <td>California</td>\n",
       "      <td>Male</td>\n",
       "      <td>15.0</td>\n",
       "      <td>2.0</td>\n",
       "      <td>28.0</td>\n",
       "      <td>No</td>\n",
       "    </tr>\n",
       "    <tr>\n",
       "      <th>4</th>\n",
       "      <td>5</td>\n",
       "      <td>Andrea</td>\n",
       "      <td>Carroll</td>\n",
       "      <td>North Carolina</td>\n",
       "      <td>Female</td>\n",
       "      <td>NaN</td>\n",
       "      <td>2.0</td>\n",
       "      <td>29.0</td>\n",
       "      <td>No</td>\n",
       "    </tr>\n",
       "  </tbody>\n",
       "</table>\n",
       "</div>"
      ],
      "text/plain": [
       "   ID First_name Last_name           State  Gender   Age  GPA  Days_missed  \\\n",
       "0   1      Wayne      Boyd         Florida    Male  19.0  NaN          9.0   \n",
       "1   2        Ann  Matthews    Pennsylvania  Female  18.0  3.0          NaN   \n",
       "2   3     George  Matthews           Texas    male  17.0  NaN         10.0   \n",
       "3   4      Jerry     Ramos      California    Male  15.0  2.0         28.0   \n",
       "4   5     Andrea   Carroll  North Carolina  Female   NaN  2.0         29.0   \n",
       "\n",
       "  Graduated  \n",
       "0       Yes  \n",
       "1       Yes  \n",
       "2       Yes  \n",
       "3        No  \n",
       "4        No  "
      ]
     },
     "execution_count": 8,
     "metadata": {},
     "output_type": "execute_result"
    }
   ],
   "source": [
    "data_fillgender.head()"
   ]
  },
  {
   "cell_type": "code",
   "execution_count": 69,
   "metadata": {
    "collapsed": false
   },
   "outputs": [
    {
     "data": {
      "text/plain": [
       "16.996108949416342"
      ]
     },
     "execution_count": 69,
     "metadata": {},
     "output_type": "execute_result"
    }
   ],
   "source": [
    "#question 1 part 3 (1)\n",
    "data['Age'].mean()"
   ]
  },
  {
   "cell_type": "code",
   "execution_count": 70,
   "metadata": {
    "collapsed": false
   },
   "outputs": [
    {
     "data": {
      "text/plain": [
       "ID             500.500000\n",
       "Age             16.996109\n",
       "GPA              2.988447\n",
       "Days_missed     18.011139\n",
       "dtype: float64"
      ]
     },
     "execution_count": 70,
     "metadata": {},
     "output_type": "execute_result"
    }
   ],
   "source": [
    "data.mean()"
   ]
  },
  {
   "cell_type": "code",
   "execution_count": 77,
   "metadata": {
    "collapsed": false
   },
   "outputs": [],
   "source": [
    "data_fillna1 = data.fillna(data.mean())"
   ]
  },
  {
   "cell_type": "code",
   "execution_count": 79,
   "metadata": {
    "collapsed": false,
    "scrolled": true
   },
   "outputs": [
    {
     "data": {
      "text/html": [
       "<div>\n",
       "<table border=\"1\" class=\"dataframe\">\n",
       "  <thead>\n",
       "    <tr style=\"text-align: right;\">\n",
       "      <th></th>\n",
       "      <th>ID</th>\n",
       "      <th>Age</th>\n",
       "      <th>GPA</th>\n",
       "      <th>Days_missed</th>\n",
       "    </tr>\n",
       "    <tr>\n",
       "      <th>Graduated</th>\n",
       "      <th></th>\n",
       "      <th></th>\n",
       "      <th></th>\n",
       "      <th></th>\n",
       "    </tr>\n",
       "  </thead>\n",
       "  <tbody>\n",
       "    <tr>\n",
       "      <th>No</th>\n",
       "      <td>490.066339</td>\n",
       "      <td>17.051780</td>\n",
       "      <td>2.515971</td>\n",
       "      <td>19.228501</td>\n",
       "    </tr>\n",
       "    <tr>\n",
       "      <th>Yes</th>\n",
       "      <td>507.661046</td>\n",
       "      <td>16.958874</td>\n",
       "      <td>3.505376</td>\n",
       "      <td>16.775561</td>\n",
       "    </tr>\n",
       "  </tbody>\n",
       "</table>\n",
       "</div>"
      ],
      "text/plain": [
       "                   ID        Age       GPA  Days_missed\n",
       "Graduated                                              \n",
       "No         490.066339  17.051780  2.515971    19.228501\n",
       "Yes        507.661046  16.958874  3.505376    16.775561"
      ]
     },
     "execution_count": 79,
     "metadata": {},
     "output_type": "execute_result"
    }
   ],
   "source": [
    "#question1 part 3 (2)\n",
    "data.groupby(['Graduated']).mean()"
   ]
  },
  {
   "cell_type": "code",
   "execution_count": 9,
   "metadata": {
    "collapsed": true
   },
   "outputs": [],
   "source": [
    "data_fillna2 = data"
   ]
  },
  {
   "cell_type": "code",
   "execution_count": 10,
   "metadata": {
    "collapsed": true
   },
   "outputs": [],
   "source": [
    "import numpy as np"
   ]
  },
  {
   "cell_type": "code",
   "execution_count": 11,
   "metadata": {
    "collapsed": true
   },
   "outputs": [
    {
     "name": "stderr",
     "output_type": "stream",
     "text": [
      "/usr/local/lib/python3.5/dist-packages/ipykernel/__main__.py:3: SettingWithCopyWarning: \n",
      "A value is trying to be set on a copy of a slice from a DataFrame\n",
      "\n",
      "See the caveats in the documentation: http://pandas.pydata.org/pandas-docs/stable/indexing.html#indexing-view-versus-copy\n",
      "  app.launch_new_instance()\n",
      "/usr/local/lib/python3.5/dist-packages/ipykernel/__main__.py:5: SettingWithCopyWarning: \n",
      "A value is trying to be set on a copy of a slice from a DataFrame\n",
      "\n",
      "See the caveats in the documentation: http://pandas.pydata.org/pandas-docs/stable/indexing.html#indexing-view-versus-copy\n"
     ]
    }
   ],
   "source": [
    "for i in range(1000):\n",
    "    if np.isnan(data_fillna2['Age'][i]) and data_fillna2['Graduated'][i]=='No':\n",
    "        data_fillna2['Age'][i] = 17.051780 \n",
    "    elif np.isnan(data_fillna2['Age'][i]) and data_fillna2['Graduated'][i]=='Yes':\n",
    "        data_fillna2['Age'][i] = 16.958874"
   ]
  },
  {
   "cell_type": "code",
   "execution_count": 12,
   "metadata": {
    "collapsed": false
   },
   "outputs": [
    {
     "name": "stderr",
     "output_type": "stream",
     "text": [
      "/usr/local/lib/python3.5/dist-packages/ipykernel/__main__.py:5: SettingWithCopyWarning: \n",
      "A value is trying to be set on a copy of a slice from a DataFrame\n",
      "\n",
      "See the caveats in the documentation: http://pandas.pydata.org/pandas-docs/stable/indexing.html#indexing-view-versus-copy\n"
     ]
    }
   ],
   "source": [
    "for i in range(1000):\n",
    "    if np.isnan(data_fillna2['GPA'][i]) and data_fillna2['Graduated'][i]=='No':\n",
    "        data_fillna2['GPA'][i] = 2.515971 \n",
    "    elif np.isnan(data_fillna2['GPA'][i]) and data_fillna2['Graduated'][i]=='Yes':\n",
    "        data_fillna2['GPA'][i] = 3.505376"
   ]
  },
  {
   "cell_type": "code",
   "execution_count": 13,
   "metadata": {
    "collapsed": false
   },
   "outputs": [
    {
     "name": "stderr",
     "output_type": "stream",
     "text": [
      "/usr/local/lib/python3.5/dist-packages/ipykernel/__main__.py:5: SettingWithCopyWarning: \n",
      "A value is trying to be set on a copy of a slice from a DataFrame\n",
      "\n",
      "See the caveats in the documentation: http://pandas.pydata.org/pandas-docs/stable/indexing.html#indexing-view-versus-copy\n"
     ]
    }
   ],
   "source": [
    "for i in range(1000):\n",
    "    if np.isnan(data_fillna2['Days_missed'][i]) and data_fillna2['Graduated'][i]=='No':\n",
    "        data_fillna2['Days_missed'][i] = 19.288501 \n",
    "    elif np.isnan(data_fillna2['Days_missed'][i]) and data_fillna2['Graduated'][i]=='Yes':\n",
    "        data_fillna2['Days_missed'][i] = 16.775561"
   ]
  },
  {
   "cell_type": "code",
   "execution_count": 14,
   "metadata": {
    "collapsed": false
   },
   "outputs": [
    {
     "data": {
      "text/html": [
       "<div>\n",
       "<table border=\"1\" class=\"dataframe\">\n",
       "  <thead>\n",
       "    <tr style=\"text-align: right;\">\n",
       "      <th></th>\n",
       "      <th>ID</th>\n",
       "      <th>First_name</th>\n",
       "      <th>Last_name</th>\n",
       "      <th>State</th>\n",
       "      <th>Gender</th>\n",
       "      <th>Age</th>\n",
       "      <th>GPA</th>\n",
       "      <th>Days_missed</th>\n",
       "      <th>Graduated</th>\n",
       "    </tr>\n",
       "  </thead>\n",
       "  <tbody>\n",
       "    <tr>\n",
       "      <th>0</th>\n",
       "      <td>1</td>\n",
       "      <td>Wayne</td>\n",
       "      <td>Boyd</td>\n",
       "      <td>Florida</td>\n",
       "      <td>Male</td>\n",
       "      <td>19.00000</td>\n",
       "      <td>3.505376</td>\n",
       "      <td>9.000000</td>\n",
       "      <td>Yes</td>\n",
       "    </tr>\n",
       "    <tr>\n",
       "      <th>1</th>\n",
       "      <td>2</td>\n",
       "      <td>Ann</td>\n",
       "      <td>Matthews</td>\n",
       "      <td>Pennsylvania</td>\n",
       "      <td>Female</td>\n",
       "      <td>18.00000</td>\n",
       "      <td>3.000000</td>\n",
       "      <td>16.775561</td>\n",
       "      <td>Yes</td>\n",
       "    </tr>\n",
       "    <tr>\n",
       "      <th>2</th>\n",
       "      <td>3</td>\n",
       "      <td>George</td>\n",
       "      <td>Matthews</td>\n",
       "      <td>Texas</td>\n",
       "      <td>male</td>\n",
       "      <td>17.00000</td>\n",
       "      <td>3.505376</td>\n",
       "      <td>10.000000</td>\n",
       "      <td>Yes</td>\n",
       "    </tr>\n",
       "    <tr>\n",
       "      <th>3</th>\n",
       "      <td>4</td>\n",
       "      <td>Jerry</td>\n",
       "      <td>Ramos</td>\n",
       "      <td>California</td>\n",
       "      <td>Male</td>\n",
       "      <td>15.00000</td>\n",
       "      <td>2.000000</td>\n",
       "      <td>28.000000</td>\n",
       "      <td>No</td>\n",
       "    </tr>\n",
       "    <tr>\n",
       "      <th>4</th>\n",
       "      <td>5</td>\n",
       "      <td>Andrea</td>\n",
       "      <td>Carroll</td>\n",
       "      <td>North Carolina</td>\n",
       "      <td>Female</td>\n",
       "      <td>17.05178</td>\n",
       "      <td>2.000000</td>\n",
       "      <td>29.000000</td>\n",
       "      <td>No</td>\n",
       "    </tr>\n",
       "  </tbody>\n",
       "</table>\n",
       "</div>"
      ],
      "text/plain": [
       "   ID First_name Last_name           State  Gender       Age       GPA  \\\n",
       "0   1      Wayne      Boyd         Florida    Male  19.00000  3.505376   \n",
       "1   2        Ann  Matthews    Pennsylvania  Female  18.00000  3.000000   \n",
       "2   3     George  Matthews           Texas    male  17.00000  3.505376   \n",
       "3   4      Jerry     Ramos      California    Male  15.00000  2.000000   \n",
       "4   5     Andrea   Carroll  North Carolina  Female  17.05178  2.000000   \n",
       "\n",
       "   Days_missed Graduated  \n",
       "0     9.000000       Yes  \n",
       "1    16.775561       Yes  \n",
       "2    10.000000       Yes  \n",
       "3    28.000000        No  \n",
       "4    29.000000        No  "
      ]
     },
     "execution_count": 14,
     "metadata": {},
     "output_type": "execute_result"
    }
   ],
   "source": [
    "data_fillna2.head()"
   ]
  },
  {
   "cell_type": "markdown",
   "metadata": {},
   "source": [
    "question 1 part 3 (3)\n",
    "a better way to infer is to take conditional average according to graduated or not and gender \n",
    "Age should be filled with average value"
   ]
  },
  {
   "cell_type": "code",
   "execution_count": 8,
   "metadata": {
    "collapsed": false,
    "scrolled": false
   },
   "outputs": [
    {
     "data": {
      "text/html": [
       "<div>\n",
       "<table border=\"1\" class=\"dataframe\">\n",
       "  <thead>\n",
       "    <tr style=\"text-align: right;\">\n",
       "      <th></th>\n",
       "      <th></th>\n",
       "      <th>ID</th>\n",
       "      <th>Age</th>\n",
       "      <th>GPA</th>\n",
       "      <th>Days_missed</th>\n",
       "    </tr>\n",
       "    <tr>\n",
       "      <th>Graduated</th>\n",
       "      <th>Gender</th>\n",
       "      <th></th>\n",
       "      <th></th>\n",
       "      <th></th>\n",
       "      <th></th>\n",
       "    </tr>\n",
       "  </thead>\n",
       "  <tbody>\n",
       "    <tr>\n",
       "      <th rowspan=\"2\" valign=\"top\">No</th>\n",
       "      <th>Female</th>\n",
       "      <td>491.741935</td>\n",
       "      <td>17.008850</td>\n",
       "      <td>2.496774</td>\n",
       "      <td>19.129032</td>\n",
       "    </tr>\n",
       "    <tr>\n",
       "      <th>Male</th>\n",
       "      <td>457.675159</td>\n",
       "      <td>17.218487</td>\n",
       "      <td>2.547771</td>\n",
       "      <td>19.248408</td>\n",
       "    </tr>\n",
       "    <tr>\n",
       "      <th rowspan=\"2\" valign=\"top\">Yes</th>\n",
       "      <th>Female</th>\n",
       "      <td>504.563786</td>\n",
       "      <td>16.859375</td>\n",
       "      <td>3.510067</td>\n",
       "      <td>17.185185</td>\n",
       "    </tr>\n",
       "    <tr>\n",
       "      <th>Male</th>\n",
       "      <td>484.191781</td>\n",
       "      <td>16.969880</td>\n",
       "      <td>3.496454</td>\n",
       "      <td>15.268966</td>\n",
       "    </tr>\n",
       "  </tbody>\n",
       "</table>\n",
       "</div>"
      ],
      "text/plain": [
       "                          ID        Age       GPA  Days_missed\n",
       "Graduated Gender                                              \n",
       "No        Female  491.741935  17.008850  2.496774    19.129032\n",
       "          Male    457.675159  17.218487  2.547771    19.248408\n",
       "Yes       Female  504.563786  16.859375  3.510067    17.185185\n",
       "          Male    484.191781  16.969880  3.496454    15.268966"
      ]
     },
     "execution_count": 8,
     "metadata": {},
     "output_type": "execute_result"
    }
   ],
   "source": [
    "#question 1 part 3 (3)\n",
    "data.groupby(['Graduated','Gender']).mean()"
   ]
  },
  {
   "cell_type": "code",
   "execution_count": 15,
   "metadata": {
    "collapsed": true
   },
   "outputs": [],
   "source": [
    "data_fillna3 = data"
   ]
  },
  {
   "cell_type": "code",
   "execution_count": 16,
   "metadata": {
    "collapsed": false
   },
   "outputs": [],
   "source": [
    "data_fillna3['Age'] = data.fillna(data.mean())"
   ]
  },
  {
   "cell_type": "code",
   "execution_count": 17,
   "metadata": {
    "collapsed": true
   },
   "outputs": [],
   "source": [
    "for i in range(1000):\n",
    "    if np.isnan(data_fillna3['GPA'][i]) and data_fillna3['Graduated'][i]=='No'and data_fillna3['Gender']=='Female':\n",
    "        data_fillna2['GPA'][i] = 2.496774 \n",
    "    elif np.isnan(data_fillna3['GPA'][i]) and data_fillna3['Graduated'][i]=='No'and data_fillna3['Gender']=='Male':\n",
    "        data_fillna2['GPA'][i] = 2.5547771\n",
    "    elif np.isnan(data_fillna3['GPA'][i]) and data_fillna3['Graduated'][i]=='Yes'and data_fillna3['Gender']=='Male':\n",
    "        data_fillna2['GPA'][i] = 3.510067\n",
    "    elif np.isnan(data_fillna3['GPA'][i]) and data_fillna3['Graduated'][i]=='Yes'and data_fillna3['Gender']=='Male':\n",
    "        data_fillna2['GPA'][i] = 3.496454\n"
   ]
  },
  {
   "cell_type": "code",
   "execution_count": 18,
   "metadata": {
    "collapsed": true
   },
   "outputs": [],
   "source": [
    "for i in range(1000):\n",
    "    if np.isnan(data_fillna3['Days_missed'][i]) and data_fillna3['Graduated'][i]=='No'and data_fillna3['Gender']=='Female':\n",
    "        data_fillna2['Days_missed'][i] = 19.129032\n",
    "    elif np.isnan(data_fillna3['Days_missed'][i]) and data_fillna3['Graduated'][i]=='No'and data_fillna3['Gender']=='Male':\n",
    "        data_fillna2['Days_missed'][i] = 19.248408\n",
    "    elif np.isnan(data_fillna3['Days_missed'][i]) and data_fillna3['Graduated'][i]=='Yes'and data_fillna3['Gender']=='Male':\n",
    "        data_fillna2['Days_missed'][i] = 17.185185\n",
    "    elif np.isnan(data_fillna3['Days_missed'][i]) and data_fillna3['Graduated'][i]=='Yes'and data_fillna3['Gender']=='Male':\n",
    "        data_fillna2['Days_missed'][i] = 15.268966"
   ]
  },
  {
   "cell_type": "code",
   "execution_count": 19,
   "metadata": {
    "collapsed": false
   },
   "outputs": [
    {
     "data": {
      "text/html": [
       "<div>\n",
       "<table border=\"1\" class=\"dataframe\">\n",
       "  <thead>\n",
       "    <tr style=\"text-align: right;\">\n",
       "      <th></th>\n",
       "      <th>ID</th>\n",
       "      <th>First_name</th>\n",
       "      <th>Last_name</th>\n",
       "      <th>State</th>\n",
       "      <th>Gender</th>\n",
       "      <th>Age</th>\n",
       "      <th>GPA</th>\n",
       "      <th>Days_missed</th>\n",
       "      <th>Graduated</th>\n",
       "    </tr>\n",
       "  </thead>\n",
       "  <tbody>\n",
       "    <tr>\n",
       "      <th>0</th>\n",
       "      <td>1</td>\n",
       "      <td>Wayne</td>\n",
       "      <td>Boyd</td>\n",
       "      <td>Florida</td>\n",
       "      <td>Male</td>\n",
       "      <td>1</td>\n",
       "      <td>3.505376</td>\n",
       "      <td>9.000000</td>\n",
       "      <td>Yes</td>\n",
       "    </tr>\n",
       "    <tr>\n",
       "      <th>1</th>\n",
       "      <td>2</td>\n",
       "      <td>Ann</td>\n",
       "      <td>Matthews</td>\n",
       "      <td>Pennsylvania</td>\n",
       "      <td>Female</td>\n",
       "      <td>2</td>\n",
       "      <td>3.000000</td>\n",
       "      <td>16.775561</td>\n",
       "      <td>Yes</td>\n",
       "    </tr>\n",
       "    <tr>\n",
       "      <th>2</th>\n",
       "      <td>3</td>\n",
       "      <td>George</td>\n",
       "      <td>Matthews</td>\n",
       "      <td>Texas</td>\n",
       "      <td>male</td>\n",
       "      <td>3</td>\n",
       "      <td>3.505376</td>\n",
       "      <td>10.000000</td>\n",
       "      <td>Yes</td>\n",
       "    </tr>\n",
       "    <tr>\n",
       "      <th>3</th>\n",
       "      <td>4</td>\n",
       "      <td>Jerry</td>\n",
       "      <td>Ramos</td>\n",
       "      <td>California</td>\n",
       "      <td>Male</td>\n",
       "      <td>4</td>\n",
       "      <td>2.000000</td>\n",
       "      <td>28.000000</td>\n",
       "      <td>No</td>\n",
       "    </tr>\n",
       "    <tr>\n",
       "      <th>4</th>\n",
       "      <td>5</td>\n",
       "      <td>Andrea</td>\n",
       "      <td>Carroll</td>\n",
       "      <td>North Carolina</td>\n",
       "      <td>Female</td>\n",
       "      <td>5</td>\n",
       "      <td>2.000000</td>\n",
       "      <td>29.000000</td>\n",
       "      <td>No</td>\n",
       "    </tr>\n",
       "  </tbody>\n",
       "</table>\n",
       "</div>"
      ],
      "text/plain": [
       "   ID First_name Last_name           State  Gender Age       GPA  Days_missed  \\\n",
       "0   1      Wayne      Boyd         Florida    Male   1  3.505376     9.000000   \n",
       "1   2        Ann  Matthews    Pennsylvania  Female   2  3.000000    16.775561   \n",
       "2   3     George  Matthews           Texas    male   3  3.505376    10.000000   \n",
       "3   4      Jerry     Ramos      California    Male   4  2.000000    28.000000   \n",
       "4   5     Andrea   Carroll  North Carolina  Female   5  2.000000    29.000000   \n",
       "\n",
       "  Graduated  \n",
       "0       Yes  \n",
       "1       Yes  \n",
       "2       Yes  \n",
       "3        No  \n",
       "4        No  "
      ]
     },
     "execution_count": 19,
     "metadata": {},
     "output_type": "execute_result"
    }
   ],
   "source": [
    "data_fillna3.head()"
   ]
  },
  {
   "cell_type": "code",
   "execution_count": 23,
   "metadata": {
    "collapsed": false
   },
   "outputs": [],
   "source": [
    "data_fillna3.to_csv('data_fillna3')"
   ]
  },
  {
   "cell_type": "code",
   "execution_count": null,
   "metadata": {
    "collapsed": true
   },
   "outputs": [],
   "source": []
  }
 ],
 "metadata": {
  "kernelspec": {
   "display_name": "Python 3",
   "language": "python",
   "name": "python3"
  },
  "language_info": {
   "codemirror_mode": {
    "name": "ipython",
    "version": 3
   },
   "file_extension": ".py",
   "mimetype": "text/x-python",
   "name": "python",
   "nbconvert_exporter": "python",
   "pygments_lexer": "ipython3",
   "version": "3.5.1"
  }
 },
 "nbformat": 4,
 "nbformat_minor": 0
}
